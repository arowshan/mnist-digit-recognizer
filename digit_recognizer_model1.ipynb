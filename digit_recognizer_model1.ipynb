{
  "nbformat": 4,
  "nbformat_minor": 0,
  "metadata": {
    "colab": {
      "name": "digit-recognizer-model.ipynb",
      "version": "0.3.2",
      "provenance": [],
      "collapsed_sections": [],
      "toc_visible": true,
      "include_colab_link": true
    },
    "kernelspec": {
      "name": "python3",
      "display_name": "Python 3"
    }
  },
  "cells": [
    {
      "cell_type": "markdown",
      "metadata": {
        "id": "view-in-github",
        "colab_type": "text"
      },
      "source": [
        "[View in Colaboratory](https://colab.research.google.com/github/arowshan/mnist-digit-recognizer/blob/master/digit_recognizer_model1.ipynb)"
      ]
    },
    {
      "metadata": {
        "id": "r0CVhTUQvRx1",
        "colab_type": "code",
        "colab": {}
      },
      "cell_type": "code",
      "source": [
        "import torch\n",
        "import torch.nn as nn\n",
        "import torch.nn.functional as F\n",
        "from torch.autograd import Variable\n",
        "import torch.optim as optim\n",
        "\n",
        "import time\n",
        "\n",
        "import pandas as pd\n",
        "import numpy as np\n",
        "import matplotlib.pyplot as plt\n",
        "import seaborn as sns\n",
        "%matplotlib inline"
      ],
      "execution_count": 0,
      "outputs": []
    },
    {
      "metadata": {
        "id": "zmwI3M0g0HzZ",
        "colab_type": "code",
        "colab": {}
      },
      "cell_type": "code",
      "source": [
        "# device = torch.device(\"cuda:0\" if torch.cuda.is_available() else \"cpu\")\n",
        "# print(device)"
      ],
      "execution_count": 0,
      "outputs": []
    },
    {
      "metadata": {
        "id": "ZPSfqK4g5OUn",
        "colab_type": "code",
        "colab": {}
      },
      "cell_type": "code",
      "source": [
        "# separate cell for loading data because it can be time consuming\n",
        "train_data = pd.read_csv('./mnist-digit-recognizer/train.csv')"
      ],
      "execution_count": 0,
      "outputs": []
    },
    {
      "metadata": {
        "id": "QBxjPzZFV6k_",
        "colab_type": "code",
        "colab": {}
      },
      "cell_type": "code",
      "source": [
        "y_train = train_data['label']\n",
        "X_train = train_data.drop(['label'], axis=1)\n",
        "y_train_tensor = torch.tensor(y_train.values)\n",
        "X_train_tensor = torch.tensor(X_train.values)\n",
        "# y_train_tensor = torch.tensor(y_train.values).to(device)\n",
        "# X_train_tensor = torch.tensor(X_train.values).to(device)"
      ],
      "execution_count": 0,
      "outputs": []
    },
    {
      "metadata": {
        "id": "Swp3FB7kSk2E",
        "colab_type": "code",
        "colab": {}
      },
      "cell_type": "code",
      "source": [
        "hidden_size = 400\n",
        "batch_size = 50\n",
        "epochs = 200"
      ],
      "execution_count": 0,
      "outputs": []
    },
    {
      "metadata": {
        "id": "-K0AqqvL9ZrY",
        "colab_type": "code",
        "colab": {}
      },
      "cell_type": "code",
      "source": [
        "class Net(nn.Module):\n",
        "  \n",
        "  def __init__(self):\n",
        "    super(Net, self).__init__()\n",
        "    self.fc1 = nn.Linear(784, hidden_size)\n",
        "    self.relu = nn.ReLU()\n",
        "    self.fc2 = nn.Linear(hidden_size, hidden_size)\n",
        "    self.fc3 = nn.Linear(hidden_size, 10)\n",
        "\n",
        "  def forward(self, x):\n",
        "    x = self.fc1(x)\n",
        "    x = self.relu(x)\n",
        "    x = self.fc2(x)\n",
        "    x = self.relu(x)\n",
        "    x = self.fc3(x)\n",
        "    y = F.log_softmax(x)\n",
        "    return y\n",
        "\n",
        "net = Net()\n",
        "# net.to(device)"
      ],
      "execution_count": 0,
      "outputs": []
    },
    {
      "metadata": {
        "id": "ymvcOXBCah2z",
        "colab_type": "code",
        "colab": {}
      },
      "cell_type": "code",
      "source": [
        "optimizer = optim.SGD(net.parameters(), lr=0.00005, momentum=0.9)\n",
        "loss_func = nn.CrossEntropyLoss()"
      ],
      "execution_count": 0,
      "outputs": []
    },
    {
      "metadata": {
        "id": "mWL14eE9QqoU",
        "colab_type": "code",
        "colab": {}
      },
      "cell_type": "code",
      "source": [
        "loss_log = []\n",
        "start_time = time.time()\n",
        "\n",
        "for epoch in range(epochs):\n",
        "  for i in range(0, X_train_tensor.shape[0], batch_size):\n",
        "    x_mini = X_train_tensor[i :i+batch_size] \n",
        "    y_mini = y_train_tensor[i :i+batch_size] \n",
        "\n",
        "    x_var = Variable(x_mini.float())\n",
        "    y_var = Variable(y_mini)\n",
        "\n",
        "    optimizer.zero_grad()\n",
        "    net_out = net(x_var)\n",
        "\n",
        "    loss = loss_func(net_out, y_var)\n",
        "    loss.backward()\n",
        "    optimizer.step()\n",
        "\n",
        "    if i % 100 == 0:\n",
        "      loss_log.append(loss.data[0])\n",
        "\n",
        "  print('Epoch: {} - Loss: {:.6f}'.format(epoch, loss.data[0]))\n",
        "  \n",
        "end_time = time.time()\n",
        "total_time = end_time - start_time\n",
        "\n",
        "print('Time passed: ', total_time)"
      ],
      "execution_count": 0,
      "outputs": []
    },
    {
      "metadata": {
        "id": "QOAHvQfTiyIG",
        "colab_type": "code",
        "colab": {}
      },
      "cell_type": "code",
      "source": [
        "test_data = pd.read_csv('./mnist-digit-recognizer/test.csv')\n",
        "test_tensor = torch.tensor(test_data.values)\n",
        "# test_tensor = torch.tensor(test_data.values).to(device)\n",
        "test_var = Variable(test_tensor.float())"
      ],
      "execution_count": 0,
      "outputs": []
    },
    {
      "metadata": {
        "id": "oG--5GJDduCY",
        "colab_type": "code",
        "colab": {
          "base_uri": "https://localhost:8080/",
          "height": 71
        },
        "outputId": "9b4ac47d-1a3e-45e5-f9ae-b8cc02a05b1e"
      },
      "cell_type": "code",
      "source": [
        "net_test = net(test_var)"
      ],
      "execution_count": 446,
      "outputs": [
        {
          "output_type": "stream",
          "text": [
            "c:\\users\\arash\\appdata\\local\\programs\\python\\python36\\lib\\site-packages\\ipykernel_launcher.py:16: UserWarning: Implicit dimension choice for log_softmax has been deprecated. Change the call to include dim=X as an argument.\n",
            "  app.launch_new_instance()\n"
          ],
          "name": "stderr"
        }
      ]
    },
    {
      "metadata": {
        "id": "jh0-v_XNlyJw",
        "colab_type": "code",
        "colab": {}
      },
      "cell_type": "code",
      "source": [
        "# cuda_tensor = (torch.max(net_test.data, 1)[1]).cuda()\n",
        "# output = cuda_tensor.cpu().numpy()\n",
        "output = (torch.max(net_test.data, 1)[1]).numpy()\n"
      ],
      "execution_count": 0,
      "outputs": []
    },
    {
      "metadata": {
        "id": "hTm2TM14l8Mp",
        "colab_type": "code",
        "colab": {}
      },
      "cell_type": "code",
      "source": [
        "np.savetxt(\"submission.csv\", np.dstack((np.arange(1, output.size+1),output))[0],\"%d,%d\", newline='\\r\\n', header=\"ImageId,Label\", comments='')"
      ],
      "execution_count": 0,
      "outputs": []
    },
    {
      "metadata": {
        "id": "k4c5D0lBClj3",
        "colab_type": "code",
        "colab": {
          "base_uri": "https://localhost:8080/",
          "height": 291
        },
        "outputId": "1a87dd2e-328f-4173-cfb2-24960e581bb7"
      },
      "cell_type": "code",
      "source": [
        "sns.set()\n",
        "a = test_data.iloc[27992].values.reshape((28, 28))\n",
        "sns.heatmap(a)"
      ],
      "execution_count": 449,
      "outputs": [
        {
          "output_type": "execute_result",
          "data": {
            "text/plain": [
              "<matplotlib.axes._subplots.AxesSubplot at 0x14d01f4bb38>"
            ]
          },
          "metadata": {
            "tags": []
          },
          "execution_count": 449
        },
        {
          "output_type": "display_data",
          "data": {
            "text/plain": [
              "<Figure size 432x288 with 2 Axes>"
            ],
            "image/png": "[encoded data removed]"
          },
          "metadata": {
            "tags": []
          }
        }
      ]
    },
    {
      "metadata": {
        "id": "4Qvf5XogC7Og",
        "colab_type": "code",
        "colab": {}
      },
      "cell_type": "code",
      "source": [
        ""
      ],
      "execution_count": 0,
      "outputs": []
    }
  ]
}